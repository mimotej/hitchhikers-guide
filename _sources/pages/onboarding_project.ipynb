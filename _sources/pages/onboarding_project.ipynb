{
 "cells": [
  {
   "cell_type": "markdown",
   "metadata": {
    "tags": []
   },
   "source": [
    "# How to onboard a new project to a cluster on Operate First\n",
    "This guide explains how you can onboard a new project to one of the Operate First clusters. \n",
    "\n",
    ":::{seealso}\n",
    "\n",
    "For more information about the Operate First see [Getting started with Operate First](references:operate-first-start)\n",
    ":::\n",
    "\n",
    "## Prerequisites\n",
    "- There are no prerequisites.\n",
    "\n",
    "\n",
    "## Outcomes\n",
    "\n",
    "- [ ] A pull request against the `operate-first/apps` repository.\n",
    "\n",
    "The PR enables Operate First to:\n",
    "\n",
    "- [ ] Create a namespace on the desired Operate First cluster.\n",
    "- [ ] Add desired users as namespace admins to the specified namespace.\n",
    "\n",
    "## Introduction\n",
    "\n",
    "All manifests for all the workloads owned by Operate First Ops team are maintained in the `operate-first/apps` repository following the [Kustomize best practices](https://kubernetes.io/docs/tasks/manage-kubernetes-objects/kustomization/).\n",
    "\n",
    "The `cluster-scope` folder in this repo stores all privileged resources that are usually not allowed to be deployed by regular project admin and requires elevated access like cluster-admin role.\n",
    "\n",
    "If you want to know more about the overall design please consult Operate First's [Architectural Decision Records (ADR) archive](https://www.operate-first.cloud/blueprints/blueprint/#architectural-decisions).\n",
    "\n",
    "\n",
    "## Steps"
   ]
  },
  {
   "cell_type": "markdown",
   "metadata": {
    "tags": []
   },
   "source": [
    "### 1. Define important variables\n",
    "\n",
    "In this guide we will use a couple of facts about the project. To make it easier to follow this guide, let's define these values beforehand."
   ]
  },
  {
   "cell_type": "code",
   "execution_count": 2,
   "metadata": {},
   "outputs": [],
   "source": [
    "import os\n",
    "import json\n",
    "\n",
    "# User variables\n",
    "GITHUB_USERNAME = os.getenv(\"JUPYTERHUB_USER\")  # If this notebook is executed within Jupyter Hub on Operate First, you can use the `JUPYTERHUB_USER` variables instead\n",
    "\n",
    "# Namespace specific variables\n",
    "NAMESPACE_NAME=\"demo-project\"\n",
    "NAMESPACE_DISPLAY_NAME=\"Demo Project Namespace\"\n",
    "TEAM_NAME=\"demo-team\"\n",
    "\n",
    "# Target cluster variables\n",
    "TARGET_CLUSTER_NAME = \"demo\"\n",
    "TARGET_CLUSTER_REGION = \"emea\"\n",
    "\n",
    "NAMESPACE_ADMINS_LST = [GITHUB_USERNAME,] # list of LOWERCASE github usernames of the namespace admins\n",
    "\n",
    "TARGET_CLUSTER=TARGET_CLUSTER_REGION+\"/\"+TARGET_CLUSTER_NAME\n",
    "\n",
    "NAMESPACE_ADMINS=json.dumps([u.lower() for u in NAMESPACE_ADMINS_LST]).replace(\"\\\"\", \"\\\\\\\"\")"
   ]
  },
  {
   "cell_type": "markdown",
   "metadata": {},
   "source": [
    "\n",
    "### 2. Fork and clone the apps repository\n",
    "\n",
    "Please fork/clone the [operate-first/apps](https://github.com/operate-first/apps) repository. We’ll be working within this repository only.\n",
    "\n",
    "1. Go to [operate-first/apps](https://github.com/operate-first/apps).\n",
    "2. Click on a fork button.\n",
    "3. When a fork is created click on the code button and copy an address of your forked repository.\n",
    "4. Run following command using copied address:"
   ]
  },
  {
   "cell_type": "code",
   "execution_count": 3,
   "metadata": {},
   "outputs": [
    {
     "name": "stdout",
     "output_type": "stream",
     "text": [
      "Cloning into 'apps'...\n",
      "remote: Enumerating objects: 12377, done.\u001b[K\n",
      "remote: Counting objects: 100% (1658/1658), done.\u001b[K\n",
      "remote: Compressing objects: 100% (877/877), done.\u001b[K\n",
      "remote: Total 12377 (delta 743), reused 1561 (delta 686), pack-reused 10719\u001b[K\n",
      "Receiving objects: 100% (12377/12377), 2.63 MiB | 4.05 MiB/s, done.\n",
      "Resolving deltas: 100% (6003/6003), done.\n",
      "/home/anand/Documents/4n4nd/hitchhikers-guide/pages/apps\n"
     ]
    }
   ],
   "source": [
    "!git clone https://github.com/{GITHUB_USERNAME}/apps.git\n",
    "%cd apps"
   ]
  },
  {
   "cell_type": "markdown",
   "metadata": {},
   "source": [
    "### 3. Adding namespaces\n",
    "\n",
    "For easier onboarding to ArgoCD later on, we prefer to follow a name pattern for all our namespaces. Please use your team name as a prefix to the namespace name like so: `$TEAM_NAME-example-project`.\n",
    "####  Base resources\n"
   ]
  },
  {
   "cell_type": "markdown",
   "metadata": {},
   "source": [
    "To create necessary resources use opfcli which creates the following folders with files:\n",
    "\n",
    "- A namespace in `cluster-scope/base/core/namespaces/$NAMESPACE_NAME`.\n",
    "- A blank user group for the `$TEAM_NAME` if it does not exist yet in the `cluster-scope/base/user.openshift.io/groups/$TEAM_NAME`.\n",
    "- An RBAC component for the project admin role `RoleBinding` in `cluster-scope/components/namespace-admin-rolebinding/$TEAM_NAME` and maps it to the newly added namespace."
   ]
  },
  {
   "cell_type": "code",
   "execution_count": 4,
   "metadata": {},
   "outputs": [
    {
     "name": "stdout",
     "output_type": "stream",
     "text": [
      "\u001b[36mINFO\u001b[0m[0000] writing group definition to /home/anand/Documents/4n4nd/hitchhikers-guide/pages/apps/cluster-scope/base/user.openshift.io/groups/demo-team \n",
      "\u001b[36mINFO\u001b[0m[0000] writing rbac definition to /home/anand/Documents/4n4nd/hitchhikers-guide/pages/apps/cluster-scope/components/project-admin-rolebindings/demo-team \n",
      "\u001b[36mINFO\u001b[0m[0000] writing namespace definition to /home/anand/Documents/4n4nd/hitchhikers-guide/pages/apps/cluster-scope/base/core/namespaces/demo-project \n"
     ]
    }
   ],
   "source": [
    "!opfcli create-project {NAMESPACE_NAME} {TEAM_NAME} -d \"{NAMESPACE_DISPLAY_NAME}\""
   ]
  },
  {
   "cell_type": "markdown",
   "metadata": {},
   "source": [
    "### 4. Adding namespace resources to the target cluster\n",
    "\n",
    "The following cell will add `../../../../base/core/namespaces/$NAMESPACE_NAME` as a resource to the kusomization for your target cluster (`cluster-scope/overlays/prod/$TARGET_CLUSTER/kustomization.yaml`).\n",
    "\n",
    "\n"
   ]
  },
  {
   "cell_type": "code",
   "execution_count": 5,
   "metadata": {},
   "outputs": [],
   "source": [
    "!cd cluster-scope/overlays/prod/{TARGET_CLUSTER}/ && kustomize edit add resource ../../../../base/core/namespaces/{NAMESPACE_NAME}"
   ]
  },
  {
   "cell_type": "markdown",
   "metadata": {},
   "source": [
    "### 5. Populate your team\n",
    "By executing the next cell, you will add the users listed in `$NAMESPACE_ADMINS_LST` to the OpenShift group `$TEAM_NAME` making them namespace admins for the above added namespace."
   ]
  },
  {
   "cell_type": "code",
   "execution_count": 6,
   "metadata": {},
   "outputs": [],
   "source": [
    "!yq e -i \".users = {NAMESPACE_ADMINS}\" cluster-scope/base/user.openshift.io/groups/{TEAM_NAME}/group.yaml"
   ]
  },
  {
   "cell_type": "markdown",
   "metadata": {},
   "source": [
    "## Finalize\n",
    "Please stage your changes and send them as a PR against the [operate-first/apps](https://github.com/operate-first/apps) repository. \n",
    "\n",
    ":::{note}\n",
    "Make sure that following files/ have been modified/added:\n",
    "- [x] `cluster-scope/base/core/namespaces/$NAMESPACE_NAME/kustomization.yaml`\n",
    "- [x] `cluster-scope/base/core/namespaces/$NAMESPACE_NAME/namespace.yaml`\n",
    "- [x] `cluster-scope/base/user.openshift.io/groups/$TEAM_NAME/group.yaml`\n",
    "- [x] `cluster-scope/base/user.openshift.io/groups/$TEAM_NAME/kustomization.yaml`\n",
    "- [x] `cluster-scope/components/namespace-admin-rolebinding/$TEAM_NAME/kustomization.yaml`\n",
    "- [x] `cluster-scope/components/namespace-admin-rolebinding/$TEAM_NAME/rbac.yaml`\n",
    "- [x] `cluster-scope/overlays/prod/$TARGET_CLUSTER/kustomization.yaml`\n",
    ":::\n",
    "\n",
    "Once the PR is merged, all the desired changes should be applied and the listed users should have admin access to the specified namespaces in the target cluster."
   ]
  },
  {
   "cell_type": "code",
   "execution_count": 7,
   "metadata": {},
   "outputs": [
    {
     "name": "stdout",
     "output_type": "stream",
     "text": [
      "On branch master\n",
      "Your branch is up to date with 'origin/master'.\n",
      "\n",
      "Changes not staged for commit:\n",
      "  (use \"git add <file>...\" to update what will be committed)\n",
      "  (use \"git restore <file>...\" to discard changes in working directory)\n",
      "\t\u001b[31mmodified:   cluster-scope/overlays/prod/emea/demo/kustomization.yaml\u001b[m\n",
      "\n",
      "Untracked files:\n",
      "  (use \"git add <file>...\" to include in what will be committed)\n",
      "\t\u001b[31mcluster-scope/base/core/namespaces/demo-project/\u001b[m\n",
      "\t\u001b[31mcluster-scope/base/user.openshift.io/groups/demo-team/\u001b[m\n",
      "\t\u001b[31mcluster-scope/components/project-admin-rolebindings/demo-team/\u001b[m\n",
      "\n",
      "no changes added to commit (use \"git add\" and/or \"git commit -a\")\n",
      "[master bf5372e] feat(onboarding): Add team demo-team\n",
      " 7 files changed, 41 insertions(+)\n",
      " create mode 100644 cluster-scope/base/core/namespaces/demo-project/kustomization.yaml\n",
      " create mode 100644 cluster-scope/base/core/namespaces/demo-project/namespace.yaml\n",
      " create mode 100644 cluster-scope/base/user.openshift.io/groups/demo-team/group.yaml\n",
      " create mode 100644 cluster-scope/base/user.openshift.io/groups/demo-team/kustomization.yaml\n",
      " create mode 100644 cluster-scope/components/project-admin-rolebindings/demo-team/kustomization.yaml\n",
      " create mode 100644 cluster-scope/components/project-admin-rolebindings/demo-team/rbac.yaml\n",
      "Enumerating objects: 37, done.\n",
      "Counting objects: 100% (37/37), done.\n",
      "Delta compression using up to 12 threads\n",
      "Compressing objects: 100% (23/23), done.\n",
      "Writing objects: 100% (24/24), 2.29 KiB | 2.29 MiB/s, done.\n",
      "Total 24 (delta 10), reused 0 (delta 0), pack-reused 0\n",
      "remote: Resolving deltas: 100% (10/10), completed with 9 local objects.\u001b[K\n",
      "To https://github.com/4n4nd/apps.git\n",
      "   da4a111..bf5372e  master -> master\n"
     ]
    }
   ],
   "source": [
    "!git status\n",
    "!git add .\n",
    "!git commit -m \"feat(onboarding): Add team {TEAM_NAME}\"\n",
    "!git push"
   ]
  },
  {
   "cell_type": "code",
   "execution_count": null,
   "metadata": {},
   "outputs": [],
   "source": []
  }
 ],
 "metadata": {
  "interpreter": {
   "hash": "e7370f93d1d0cde622a1f8e1c04877d8463912d04d973331ad4851f04de6915a"
  },
  "kernelspec": {
   "display_name": "Python 3 (ipykernel)",
   "language": "python",
   "name": "python3"
  },
  "language_info": {
   "codemirror_mode": {
    "name": "ipython",
    "version": 3
   },
   "file_extension": ".py",
   "mimetype": "text/x-python",
   "name": "python",
   "nbconvert_exporter": "python",
   "pygments_lexer": "ipython3",
   "version": "3.8.12"
  }
 },
 "nbformat": 4,
 "nbformat_minor": 4
}
