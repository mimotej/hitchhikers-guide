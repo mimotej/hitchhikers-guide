{
 "cells": [
  {
   "cell_type": "markdown",
   "source": [
    "# Cluster onboarding\n",
    "This guide explains how you can onboard to one of the Operate First clusters. First chapter lists different environments and clusters where you can onboard, second explains how you can onboard as user and third how you can onboard yourself creating PR.\n",
    ":::{seealso}\n",
    "For more information about the Operate First see [Getting started with Operate First](references:operate-first-start)\n",
    ":::\n",
    "\n",
    "## User\n",
    "\n",
    "Clusters managed by Operate First are listed [here](references:clusters).\n",
    "To request access to one of these clusters please file a GitHub issue [here](https://github.com/operate-first/support/issues/new?assignees=first-operator&labels=kind%2Fonboarding%2Carea%2Fcluster&template=onboarding_to_cluster.yaml&title=NEW+PROJECT%3A+%3Cname%3E). \n",
    "\n",
    "\n",
    "## Operation\n",
    "\n",
    "This part of tutorial servers as a guide for adding cluster scoped resources of `Namespace` and `Group` kinds. Following steps in this guide should result in a PR against the [operate-first/apps](https://github.com/operate-first/apps) repository.\n",
    "\n",
    "### Prerequisites\n",
    "There are no prerequisites.\n",
    "\n",
    "### Recipe\n",
    "If you want to know more about the overall design please consult the ADR documentation at [operate-first/support](https://github.com/operate-first/blueprint).\n",
    "In general we store all the cluster-scoped resources in a `cluster-scope` kustomize application within this repository.\n",
    "#### Workspace setup\n",
    "\n",
    "Please fork/clone the [operate-first/apps](https://github.com/operate-first/apps) repository. During this whole setup, we’ll be working within this repository.\n",
    "\n",
    "1. Go to [operate-first/apps](https://github.com/operate-first/apps).\n",
    "2. Click on a fork button.\n",
    "3. When a fork is created click on the code button and copy an adress of your forked repository.\n",
    "4. Run following command using copied adress:"
   ],
   "metadata": {}
  },
  {
   "cell_type": "code",
   "execution_count": 43,
   "source": [
    "!git clone https://github.com/$JUPYTERHUB_USER/apps.git\n",
    "%cd apps"
   ],
   "outputs": [
    {
     "output_type": "stream",
     "name": "stdout",
     "text": [
      "Cloning into 'apps'...\n",
      "remote: Enumerating objects: 9615, done.\u001b[K\n",
      "remote: Counting objects: 100% (3915/3915), done.\u001b[K\n",
      "remote: Compressing objects: 100% (1847/1847), done.\u001b[K\n",
      "remote: Total 9615 (delta 2166), reused 3341 (delta 1884), pack-reused 5700\u001b[K\n",
      "Receiving objects: 100% (9615/9615), 2.19 MiB | 2.37 MiB/s, done.\n",
      "Resolving deltas: 100% (4650/4650), done.\n",
      "/home/mdrla/work/operate-first/hitchhikers-guide/apps\n"
     ]
    }
   ],
   "metadata": {}
  },
  {
   "cell_type": "markdown",
   "source": [
    "#### Define important variables\n",
    "Define variables which are used later in the tutorial."
   ],
   "metadata": {}
  },
  {
   "cell_type": "code",
   "execution_count": 44,
   "source": [
    "NAMESPACE_NAME=\"my-namespace\"\n",
    "NAMESPACE_DISPLAY_NAME=\"My-namespace\"\n",
    "TEAM_NAME=\"awesome-team\"\n",
    "TARGET_CLUSTER=\"moc/zero\""
   ],
   "outputs": [],
   "metadata": {}
  },
  {
   "cell_type": "markdown",
   "source": [
    "\n",
    "#### Adding namespaces\n",
    "For easier onboard to ArgoCD later on, we prefer to follow a name pattern for all our namespaces. Please use your team name as a prefix to the namespace name like so: `$TEAM_NAME-example-project`.\n",
    "#####  Base resources\n"
   ],
   "metadata": {}
  },
  {
   "cell_type": "markdown",
   "source": [
    "To create necessary resources use opfcli which creates the following folders with files:\n",
    "\n",
    "- A namespace in `cluster-scope/base/core/namespaces/$NAMESPACE_NAME`\n",
    "- A blank user group for the `$TEAM_NAME` if it does not exist yet in the `cluster-scope/base/user.openshift.io/groups/$TEAM_NAME`\n",
    "- An RBAC component for the project admin role `RoleBinding` in `cluster-scope/components/namespace-admin-rolebinding/$TEAM_NAME` and maps it to the newly added namespace."
   ],
   "metadata": {}
  },
  {
   "cell_type": "code",
   "execution_count": 45,
   "source": [
    "!opfcli create-project $NAMESPACE_NAME $TEAM_NAME -d $NAMESPACE_DISPLAY_NAME"
   ],
   "outputs": [
    {
     "output_type": "stream",
     "name": "stdout",
     "text": [
      "\u001b[36mINFO\u001b[0m[0000] writing group definition to /home/mdrla/work/operate-first/hitchhikers-guide/apps/cluster-scope/base/user.openshift.io/groups/awesome-team \n",
      "\u001b[36mINFO\u001b[0m[0000] writing rbac definition to /home/mdrla/work/operate-first/hitchhikers-guide/apps/cluster-scope/components/project-admin-rolebindings/awesome-team \n",
      "\u001b[36mINFO\u001b[0m[0000] writing namespace definition to /home/mdrla/work/operate-first/hitchhikers-guide/apps/cluster-scope/base/core/namespaces/my-namespace \n"
     ]
    }
   ],
   "metadata": {}
  },
  {
   "cell_type": "markdown",
   "source": [
    "\n",
    "##### Enabling namespace deployment to Zero cluster\n"
   ],
   "metadata": {}
  },
  {
   "cell_type": "code",
   "execution_count": 26,
   "source": [
    "!cd cluster-scope/overlays/prod/$TARGET_CLUSTER"
   ],
   "outputs": [],
   "metadata": {}
  },
  {
   "cell_type": "markdown",
   "source": [
    "Open the `kustomization.yaml` file in this folder and add `../../base/core/namespaces/$NAMESPACE` to the `resources` field. We aim to keep this field alphabetically sorted for better human readability:\n",
    "```\n",
    "---\n",
    "apiVersion: kustomize.config.k8s.io/v1beta1\n",
    "kind: Kustomization\n",
    "\n",
    "resources:\n",
    "...\n",
    "- ../../base/core/namespaces/$NAMESPACE\n",
    "...\n",
    "```\n",
    "#### Populate your team\n",
    "The following steps enable users to access designated cluster/namespaces. This consists of adding users to the appropriate OpenShift groups.\n",
    "\n",
    "Navigate to `cluster-scope/base/user.openshift.io/groups/$TEAM_NAME/`.\n"
   ],
   "metadata": {}
  },
  {
   "cell_type": "code",
   "execution_count": 27,
   "source": [
    "!cd cluster-scope/base/user.openshift.io/groups/$TEAM_NAME/"
   ],
   "outputs": [],
   "metadata": {}
  },
  {
   "cell_type": "markdown",
   "source": [
    "Edit group.yaml file by adding GitHub username of every user in the group.\n",
    "```\n",
    "---\n",
    "apiVersion: user.openshift.io/v1\n",
    "kind: Group\n",
    "metadata:\n",
    "  name: $TEAM_NAME\n",
    "users:\n",
    "  - user_1\n",
    "  - user_2\n",
    "```\n",
    "```{note}\n",
    "All usernames **must** be converted to lowercase!\n",
    "```"
   ],
   "metadata": {}
  },
  {
   "cell_type": "markdown",
   "source": [
    "#### Finalize\n",
    "Please stage your changes and send them as a PR against the [operate-first/apps](https://github.com/operate-first/apps) repository. \n",
    ":::{note}\n",
    "Make sure that following files/ have been modified/added:\n",
    "- [x] `cluster-scope/base/core/namespaces/$NAMESPACE_NAME/kustomization.yaml`\n",
    "- [x] `cluster-scope/base/core/namespaces/$NAMESPACE_NAME/namespace.yaml`\n",
    "- [x] `cluster-scope/base/user.openshift.io/groups/$TEAM_NAME/group.yaml`\n",
    "- [x] `cluster-scope/base/user.openshift.io/groups/$TEAM_NAME/kustomization.yaml`\n",
    "- [x] `cluster-scope/components/namespace-admin-rolebinding/$TEAM_NAME/kustomization.yaml`\n",
    "- [x] `cluster-scope/components/namespace-admin-rolebinding/$TEAM_NAME/rbac.yaml`\n",
    "- [x] `cluster-scope/overlays/prod/$TARGET_CLUSTER/kustomization.yaml`\n",
    ":::"
   ],
   "metadata": {}
  },
  {
   "cell_type": "code",
   "execution_count": 46,
   "source": [
    "!git status\n",
    "!git add .\n",
    "!git commit -m \"feat(onboarding): Add team $TEAM_NAME\"\n",
    "!git push"
   ],
   "outputs": [
    {
     "output_type": "stream",
     "name": "stdout",
     "text": [
      "On branch master\n",
      "Your branch is up to date with 'origin/master'.\n",
      "\n",
      "Changes not staged for commit:\n",
      "  (use \"git add <file>...\" to update what will be committed)\n",
      "  (use \"git restore <file>...\" to discard changes in working directory)\n",
      "\t\u001b[31mmodified:   cluster-scope/overlays/prod/moc/zero/kustomization.yaml\u001b[m\n",
      "\n",
      "Untracked files:\n",
      "  (use \"git add <file>...\" to include in what will be committed)\n",
      "\t\u001b[31mcluster-scope/base/core/namespaces/my-namespace/\u001b[m\n",
      "\t\u001b[31mcluster-scope/base/user.openshift.io/groups/awesome-team/\u001b[m\n",
      "\t\u001b[31mcluster-scope/components/project-admin-rolebindings/awesome-team/\u001b[m\n",
      "\n",
      "no changes added to commit (use \"git add\" and/or \"git commit -a\")\n",
      "[master 1d0c875] feat(onboarding): Add team awesome-team\n",
      " 7 files changed, 41 insertions(+)\n",
      " create mode 100644 cluster-scope/base/core/namespaces/my-namespace/kustomization.yaml\n",
      " create mode 100644 cluster-scope/base/core/namespaces/my-namespace/namespace.yaml\n",
      " create mode 100644 cluster-scope/base/user.openshift.io/groups/awesome-team/group.yaml\n",
      " create mode 100644 cluster-scope/base/user.openshift.io/groups/awesome-team/kustomization.yaml\n",
      " create mode 100644 cluster-scope/components/project-admin-rolebindings/awesome-team/kustomization.yaml\n",
      " create mode 100644 cluster-scope/components/project-admin-rolebindings/awesome-team/rbac.yaml\n"
     ]
    }
   ],
   "metadata": {}
  },
  {
   "cell_type": "markdown",
   "source": [
    "##### Authenticate via OpenShift\n",
    "OpenShift `User` resources are automatically created upon user login into the cluster. Please see the list of available clusters [here](references:clusters) to get the appropriate OpenShift console link.\n",
    "This will lead the user to an authentication provider selection screen:\n",
    "\n",
    "```{image} ../img/openshift-login.png\n",
    ":alt: openshift-login\n",
    ":align: center\n",
    "```\n",
    "<br/><br/>\n",
    "Please select `operate-first` provider."
   ],
   "metadata": {}
  }
 ],
 "metadata": {
  "orig_nbformat": 4,
  "language_info": {
   "name": "python",
   "version": "3.9.6",
   "mimetype": "text/x-python",
   "codemirror_mode": {
    "name": "ipython",
    "version": 3
   },
   "pygments_lexer": "ipython3",
   "nbconvert_exporter": "python",
   "file_extension": ".py"
  },
  "kernelspec": {
   "name": "python3",
   "display_name": "Python 3.9.6 64-bit"
  },
  "interpreter": {
   "hash": "e7370f93d1d0cde622a1f8e1c04877d8463912d04d973331ad4851f04de6915a"
  }
 },
 "nbformat": 4,
 "nbformat_minor": 2
}
