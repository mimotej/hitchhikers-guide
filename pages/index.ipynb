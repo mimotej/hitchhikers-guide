{
 "cells": [
  {
   "cell_type": "markdown",
   "source": [
    "# Welcome to Hitchhiker's Guide to Operate First!\n",
    "\n",
    "## What is Operate First\n",
    "\n",
    "Operate First is a concept where open source developers bring their projects to a production cloud during development where they can interact with a cloud provider’s operators and gain valuable feedback on the operational considerations of their project. The motivation for the Operate First initiative is the shift of focus from software availability to operating services. Open Source removed the access to software as a limiting factor for businesses and individuals. However, with software proliferating into every aspect of the business - and our world in general - resulting in ever growing complexity of software stacks, the challenge is now operationalizing software.\n",
    "\n",
    "\n",
    "## Why Operate First?\n",
    "\n",
    ">\"The ability to have hands on the MOC environment while installing two open source project releases was of real value. Our teams were able to resolve critical interdependencies that the test suites had not found. I could not imagine trying to work with a customer to debug this problem.\"\n",
    ">\n",
    "> -An operate first member\n",
    "\n",
    "Operate First is inspired by Red Hat’s [“Upstream First”](https://www.redhat.com/en/blog/what-open-source-upstream) philosophy, which emphasizes working in the open, even for Red Hat products. Operate First tries to extend “working in the open” to a part of the codebase that teams typically keep closed, even when deploying open source projects: their operations code."
   ],
   "metadata": {}
  }
 ],
 "metadata": {
  "orig_nbformat": 4,
  "language_info": {
   "name": "plaintext"
  }
 },
 "nbformat": 4,
 "nbformat_minor": 2
}
