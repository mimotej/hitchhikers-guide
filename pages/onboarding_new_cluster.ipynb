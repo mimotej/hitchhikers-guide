{
 "cells": [
  {
   "cell_type": "markdown",
   "source": [
    "\n",
    "# Onboarding new cluster\n",
    "\n",
    "This tutorial serves as a guide for adding cluster resources to Operate First repositories. Following steps in this guide should result in a PR against the operate-first/apps repository and operate-first/argocd-apps repository.\n",
    "\n",
    "\n",
    "## Prerequisites\n",
    "\n",
    "[x] - Cluster has to be imported to Operate First ACM, please raise an issue in the support repository [here](https://github.com/operate-first/support/issues).\n",
    "\n",
    "## Recipe\n",
    "\n",
    "If you want to know more about the overall design please consult the ADR documentation at [operate-first.cloud](https://www.operate-first.cloud/blueprints/blueprint/#architectural-decisions).\n",
    "We store all the cluster-scoped resources in a `cluster-scope` folder in the `apps` repository. This folder is rendered via Kustomize and is consumed by ArgoCD based on application manifests located in `argocd-apps` repository.\n",
    "This tutorial is split into two parts. Each part modifies a single repository and should result in a created pull request.\n",
    "\n",
    "## Changing the apps repository\n",
    "\n",
    "In this part of tutorial we prepare all files which are necessary for onboarding cluster in `apps` repository.\n",
    "\n",
    "### Workspace setup\n",
    "\n",
    "Please fork/clone the [operate-first/apps](https://github.com/operate-first/apps) repository. During this whole setup, we’ll be working within this repository.\n",
    "\n",
    "1. Go to [operate-first/apps](https://github.com/operate-first/apps).\n",
    "2. Click on a fork button.\n",
    "3. When a fork is created click on the code button and copy an adress of your forked repository.\n",
    "4. Run following command using copied adress:"
   ],
   "metadata": {}
  },
  {
   "cell_type": "code",
   "execution_count": 14,
   "source": [
    "!git clone https://github.com/$JUPYTERHUB_USER/apps.git\n",
    "%cd apps"
   ],
   "outputs": [
    {
     "output_type": "stream",
     "name": "stdout",
     "text": [
      "Cloning into 'apps'...\n",
      "remote: Enumerating objects: 10668, done.\u001b[K\n",
      "remote: Counting objects: 100% (349/349), done.\u001b[K\n",
      "remote: Compressing objects: 100% (221/221), done.\u001b[K\n",
      "remote: Total 10668 (delta 128), reused 321 (delta 114), pack-reused 10319\u001b[K\n",
      "Receiving objects: 100% (10668/10668), 2.33 MiB | 924.00 KiB/s, done.\n",
      "Resolving deltas: 100% (5239/5239), done.\n",
      "/home/mdrla/work/operate-first/hitchhikers-guide/pages/apps\n"
     ]
    }
   ],
   "metadata": {}
  },
  {
   "cell_type": "markdown",
   "source": [
    "\n",
    "### Define important variables:\n"
   ],
   "metadata": {}
  },
  {
   "cell_type": "code",
   "execution_count": null,
   "source": [
    "UUID=!uuidgen\n",
    "CLUSTER_NAME=\"my-cluster\"\n",
    "CLUSTER_KEYCLOAK_SECRET=UUID\n",
    "CLUSTER_DESCRIPTION=\"Description of cluster\"\n",
    "CLUSTER_REGION=\"moc\"\n",
    "if CLUSTER_REGION == \"moc\":\n",
    "    CLUSTER_LOCATION=\"na\"\n",
    "else:\n",
    "    CLUSTER_LOCATION=\"emea\""
   ],
   "outputs": [],
   "metadata": {}
  },
  {
   "cell_type": "markdown",
   "source": [
    "\n",
    "### Define cluster in cluster-scope\n",
    "\n",
    "For each cluster we have a separate overlay in the cluster-scope folder, grouped by region. For more information on this topic, see [ADR-0009 - Declarative Definitions for Cluster Scoped Resources](https://www.operate-first.cloud/blueprints/blueprint/docs/adr/0009-cluster-resources.md).\\\n",
    "To create base for cluster, start with creating files in cluster-scope which define groups and namespaces used in cluster.\\\n",
    "Create file `cluster-scope/overlays/prod/$CLUSTER_REGION/$CLUSTER_NAME/groups/cluster-admins.yaml` which will contain user names of users which will be considered admins of clusters. Please change the following manifest to contain the cluster admins username. Please use GitHub usernames in lowercase:"
   ],
   "metadata": {}
  },
  {
   "cell_type": "code",
   "execution_count": 18,
   "source": [
    "!mkdir -p cluster-scope/overlays/prod/$CLUSTER_REGION/$CLUSTER_NAME/groups\n",
    "input_text=\"\"\"\\\n",
    "apiVersion: user.openshift.io/v1\n",
    "kind: Group\n",
    "metadata:\n",
    "    name: cluster-admins\n",
    "users:\n",
    "    - user_admin_1\n",
    "    - user_admin_2\n",
    "\"\"\"\n",
    "%store input_text  >cluster-scope/overlays/prod/{CLUSTER_REGION}/{CLUSTER_NAME}/groups/cluster-admins.yaml "
   ],
   "outputs": [
    {
     "output_type": "stream",
     "name": "stdout",
     "text": [
      "Writing 'input_text' (str) to file 'cluster-scope/overlays/prod/moc/my-cluster/groups/cluster-admins.yaml'.\n"
     ]
    }
   ],
   "metadata": {}
  },
  {
   "cell_type": "markdown",
   "source": [
    "We use Kustomize to compose manifests. `kustomization.yaml` files serves as manifests for Kustomize instructing the tool which manifests to pull and how to overlay and render them together.\n",
    "Create `kustomization.yaml` file in `cluster-scope/overlays/prod/$CLUSTER_REGION/$CLUSTER_NAME`:"
   ],
   "metadata": {}
  },
  {
   "cell_type": "code",
   "execution_count": 22,
   "source": [
    "input_text=\"\"\"\\\n",
    "---\n",
    "apiVersion: kustomize.config.k8s.io/v1beta1\n",
    "kind: Kustomization\n",
    "\n",
    "resources:\n",
    "  - ../common\n",
    "  - ../../../../base/user.openshift.io/groups/cluster-admins\n",
    "patchesStrategicMerge:\n",
    "  - groups/cluster-admins.yaml\n",
    "\n",
    "\"\"\"\n",
    "%store input_text  >cluster-scope/overlays/prod/{CLUSTER_REGION}/{CLUSTER_NAME}/kustomization.yaml"
   ],
   "outputs": [
    {
     "output_type": "stream",
     "name": "stdout",
     "text": [
      "Writing 'input_text' (str) to file 'cluster-scope/overlays/prod/moc/my-cluster/kustomization.yaml'.\n"
     ]
    }
   ],
   "metadata": {}
  },
  {
   "cell_type": "markdown",
   "source": [
    "\n",
    "### Enable ArgoCD management in ACM\n",
    "\n",
    "Since the cluster is being managed by ACM, we leverage ACM's integration capabilities and use it to connect our ArgoCD through it. All we have to do is instruct ACM to enable the cluster to be managed by ArgoCD. This file is going to be located in `acm/overlays/$CLUSTER_REGION/infra/klusterletaddonconfigs`.\n"
   ],
   "metadata": {}
  },
  {
   "cell_type": "code",
   "execution_count": 20,
   "source": [
    "text_input=\"\"\"\\\n",
    "apiVersion: agent.open-cluster-management.io/v1\n",
    "kind: KlusterletAddonConfig\n",
    "metadata:\n",
    "  name: %s\n",
    "  namespace: %s\n",
    "spec:\n",
    "  applicationManager:\n",
    "    argocdCluster: true\n",
    "    enabled: true\n",
    "\"\"\" % (CLUSTER_NAME, CLUSTER_NAME)\n",
    "%store text_input >acm/overlays/{CLUSTER_REGION}/infra/klusterletaddonconfigs/{CLUSTER_NAME}.yaml"
   ],
   "outputs": [
    {
     "output_type": "stream",
     "name": "stdout",
     "text": [
      "Writing 'text_input' (str) to file 'acm/overlays/moc/infra/klusterletaddonconfigs/my-cluster.yaml'.\n"
     ]
    }
   ],
   "metadata": {}
  },
  {
   "cell_type": "markdown",
   "source": [
    "Next step is to list this manifest in `kustomization.yaml` file which is located in  `acm/overlays/$CLUSTER_REGION/infra/`."
   ],
   "metadata": {}
  },
  {
   "cell_type": "code",
   "execution_count": 21,
   "source": [
    "!cd acm/overlays/{CLUSTER_REGION}/infra/ && kustomize edit  add resource klusterletaddonconfigs/{CLUSTER_NAME}.yaml"
   ],
   "outputs": [],
   "metadata": {}
  },
  {
   "cell_type": "markdown",
   "source": [
    "\n",
    "### Enable logging via SSO\n",
    "\n",
    "The last thing that we have to setup is user access to the via Operate First SSO as the identity provider. This enables users to log in to the cluster console and API via Operate First SSO:\\\n",
    "Create a Keycloak client definition for your cluster in `keycloak/overlays/moc/infra/clients/$CLUSTER_NAME.yaml` and encrypt the file with sops. You can find the key to import from [here](https://github.com/operate-first/apps/tree/master/cluster-scope/overlays/prod/moc#secret-management):\n",
    "\n",
    "The `KeycloakClient` resource makes our SSO aware of the cluster's presence - it configures and enables the cluster to a client to the SSO.\n",
    ":::{note}\n",
    "Don't forget to remove unecrypted file\n",
    ":::\n"
   ],
   "metadata": {}
  },
  {
   "cell_type": "code",
   "execution_count": 23,
   "source": [
    "text_input=\"\"\"\\\n",
    "apiVersion: keycloak.org/v3alpha1\n",
    "kind: KeycloakClient\n",
    "metadata:\n",
    "    name: %s\n",
    "    labels:\n",
    "        client: %s\n",
    "spec:\n",
    "    client:\n",
    "        clientId: %s\n",
    "        defaultClientScopes:\n",
    "            - profile\n",
    "        description: %s\n",
    "        name: %s cluster\n",
    "        protocol: openid-connect\n",
    "        secret: %s\n",
    "        standardFlowEnabled: true\n",
    "        redirectUris:\n",
    "            - https://oauth-openshift.apps.%s.%s.operate-first.cloud/oauth2callback/operate-first\n",
    "    realmSelector:\n",
    "        matchLabels:\n",
    "            realm: operate-first\n",
    "\n",
    "\"\"\" %(CLUSTER_NAME, CLUSTER_NAME, CLUSTER_NAME, CLUSTER_DESCRIPTION, CLUSTER_NAME, CLUSTER_KEYCLOAK_SECRET, CLUSTER_NAME, CLUSTER_LOCATION)\n",
    "%store text_input >keycloak/overlays/moc/infra/clients/{CLUSTER_NAME}.yaml\n",
    "!sops --encrypt --encrypted-regex=\"^name|secret\" --pgp=\"0508677DD04952D06A943D5B4DC4116D360E3276\" keycloak/overlays/moc/infra/clients/{CLUSTER_NAME}.yaml >keycloak/overlays/moc/infra/clients/{CLUSTER_NAME}.enc.yaml\n",
    "!rm keycloak/overlays/moc/infra/clients/{CLUSTER_NAME}.yaml"
   ],
   "outputs": [
    {
     "output_type": "stream",
     "name": "stdout",
     "text": [
      "Writing 'text_input' (str) to file 'keycloak/overlays/moc/infra/clients/my-cluster.yaml'.\n",
      "[PGP]\t \u001b[33mWARN\u001b[0m[0000] Deprecation Warning: GPG key fetching from a keyserver within sops will be removed in a future version of sops. See https://github.com/mozilla/sops/issues/727 for more information. \n"
     ]
    }
   ],
   "metadata": {}
  },
  {
   "cell_type": "markdown",
   "source": [
    "Now we need to include this client resource in the `secret-generator` located at `keycloak/overlays/moc/infra/secret-generator.yaml` This file is a generator for Kustomize and decrypts the resources for us. We need to include the newly added client to the list of resources that should be decrypted and applied to the SSO configuration.\n"
   ],
   "metadata": {}
  },
  {
   "cell_type": "code",
   "execution_count": 24,
   "source": [
    "!yq e -i '.files += \"clients/{CLUSTER_NAME}.enc.yaml\"' keycloak/overlays/moc/infra/secret-generator.yaml"
   ],
   "outputs": [],
   "metadata": {}
  },
  {
   "cell_type": "markdown",
   "source": [
    "\n",
    "That concludes the configuration of the SSO server side. Now we need to configure the cluster we're onboarding to ask the SSO for user identities.\n",
    "\n",
    "Create a `operate-first-sso-secret` secret resource which contains cluster's SSO credentials at `cluster-scope/overlays/prod/$CLUSTER_REGION/$CLUSTER_NAME/oauths/operate-first-sso-secret.yaml`"
   ],
   "metadata": {}
  },
  {
   "cell_type": "code",
   "execution_count": 25,
   "source": [
    "!mkdir -p cluster-scope/overlays/prod/$CLUSTER_REGION/$CLUSTER_NAME/oauths/\n",
    "text_input=\"\"\"\\\n",
    "apiVersion: v1\n",
    "kind: Secret\n",
    "metadata:\n",
    "    name: operate-first-sso-secret\n",
    "    namespace: openshift-config\n",
    "    annotations:\n",
    "        argocd.argoproj.io/compare-options: IgnoreExtraneous\n",
    "        argocd.argoproj.io/sync-options: Prune=false\n",
    "type: Opaque\n",
    "stringData:\n",
    "    clientSecret: %s\n",
    "\"\"\" % (CLUSTER_KEYCLOAK_SECRET)\n",
    "%store text_input >cluster-scope/overlays/prod/{CLUSTER_REGION}/{CLUSTER_NAME}/oauths/operate-first-sso-secret.yaml\n",
    "!sops --encrypt --encrypted-regex=\"^(data|stringData)$\" --pgp=\"0508677DD04952D06A943D5B4DC4116D360E3276\" cluster-scope/overlays/prod/{CLUSTER_REGION}/{CLUSTER_NAME}/oauths/operate-first-sso-secret.yaml >cluster-scope/overlays/prod/{CLUSTER_REGION}/{CLUSTER_NAME}/oauths/operate-first-sso-secret.enc.yaml\n",
    "!rm cluster-scope/overlays/prod/{CLUSTER_REGION}/{CLUSTER_NAME}/oauths/operate-first-sso-secret.yaml"
   ],
   "outputs": [
    {
     "output_type": "stream",
     "name": "stdout",
     "text": [
      "Writing 'text_input' (str) to file 'cluster-scope/overlays/prod/moc/my-cluster/oauths/operate-first-sso-secret.yaml'.\n",
      "[PGP]\t \u001b[33mWARN\u001b[0m[0000] Deprecation Warning: GPG key fetching from a keyserver within sops will be removed in a future version of sops. See https://github.com/mozilla/sops/issues/727 for more information. \n"
     ]
    }
   ],
   "metadata": {}
  },
  {
   "cell_type": "markdown",
   "source": [
    "Since this is an encrypted secret. We need to tell Kustomize how to access it and how to decrypt it. This means we need yet another `secret-generator.yaml`, similar to what we created above. Create `cluster-scope/overlays/prod/$CLUSTER_REGION/$CLUSTER_NAME/secret-generator.yaml`."
   ],
   "metadata": {}
  },
  {
   "cell_type": "code",
   "execution_count": 26,
   "source": [
    "text_input=\"\"\"\\\n",
    "---\n",
    "apiVersion: viaduct.ai/v1\n",
    "kind: ksops\n",
    "metadata:\n",
    "  name: secret-generator\n",
    "files:\n",
    "  - oauths/operate-first-sso-secret.enc.yaml\n",
    "\"\"\"\n",
    "%store text_input >cluster-scope/overlays/prod/{CLUSTER_REGION}/{CLUSTER_NAME}/secret-generator.yaml"
   ],
   "outputs": [
    {
     "output_type": "stream",
     "name": "stdout",
     "text": [
      "Writing 'text_input' (str) to file 'cluster-scope/overlays/prod/moc/my-cluster/secret-generator.yaml'.\n"
     ]
    }
   ],
   "metadata": {}
  },
  {
   "cell_type": "markdown",
   "source": [
    "And the last resouce we have to create for the SSO, is the `OAuth` configuration of OpenShift. This resource defines identity providers available to users when authenticating to the cluster.\n",
    "Create `cluster-scope/overlays/prod/$CLUSTER_REGION/$CLUSTER_NAME/oauths/cluster_patch.yaml`:"
   ],
   "metadata": {}
  },
  {
   "cell_type": "code",
   "execution_count": 27,
   "source": [
    "text_input=\"\"\"\\\n",
    "---\n",
    "apiVersion: config.openshift.io/v1\n",
    "kind: OAuth\n",
    "metadata:\n",
    "  name: cluster\n",
    "spec:\n",
    "  identityProviders:\n",
    "    - mappingMethod: claim\n",
    "      name: operate-first\n",
    "      openID:\n",
    "        claims:\n",
    "          email:\n",
    "            - email\n",
    "          name:\n",
    "            - name\n",
    "          preferredUsername:\n",
    "            - preferred_username\n",
    "        clientID: %s\n",
    "        clientSecret:\n",
    "          name: operate-first-sso-secret\n",
    "        extraScopes: []\n",
    "        issuer: https://keycloak-keycloak.apps.moc-infra.massopen.cloud/auth/realms/operate-first\n",
    "      type: OpenID\n",
    "\"\"\" % (CLUSTER_NAME)\n",
    "%store text_input >cluster-scope/overlays/prod/{CLUSTER_REGION}/{CLUSTER_NAME}/oauths/cluster_patch.yaml"
   ],
   "outputs": [
    {
     "output_type": "stream",
     "name": "stdout",
     "text": [
      "Writing 'text_input' (str) to file 'cluster-scope/overlays/prod/moc/my-cluster/oauths/cluster_patch.yaml'.\n"
     ]
    }
   ],
   "metadata": {}
  },
  {
   "cell_type": "markdown",
   "source": [
    "Yet again we need to tell Kustomize to import these additional resources to the new cluster. \\\n",
    "To do so, please list secret-generator, cluster patch and configuration of SSO in `cluster-scope/overlays/prod/$CLUSTER_REGION/$CLUSTER_NAME/kustomization.yaml`:"
   ],
   "metadata": {}
  },
  {
   "cell_type": "code",
   "execution_count": 28,
   "source": [
    "!cd cluster-scope/overlays/prod/{CLUSTER_REGION}/{CLUSTER_NAME} && kustomize edit  add resource ../../../../base/config.openshift.io/oauths/cluster\n",
    "!yq e -i -P '.generators = [\"secret-generator.yaml\"]' cluster-scope/overlays/prod/{CLUSTER_REGION}/{CLUSTER_NAME}/kustomization.yaml\n",
    "!yq e -i -P '.patchesStrategicMerge= [\"oauths/cluster_patch.yaml\"]' cluster-scope/overlays/prod/{CLUSTER_REGION}/{CLUSTER_NAME}/kustomization.yaml"
   ],
   "outputs": [],
   "metadata": {}
  },
  {
   "cell_type": "markdown",
   "source": [
    "\n",
    "### Finalize\n",
    "\n",
    "Please stage your changes and send them as a PR against the [operate-first/apps](https://github.com/operate-first/apps) repository. \n",
    ":::{note}\n",
    "Make sure that following files/ have been modified/added:\n",
    "- [x] `cluster-scope/overlays/prod/$CLUSTER_REGION/$CLUSTER_NAME/groups/cluster-admins.yaml`\n",
    "- [x] `cluster-scope/overlays/prod/$CLUSTER_REGION/$CLUSTER_NAME/kustomization.yaml`\n",
    "- [x] `cluster-scope/overlays/prod/$CLUSTER_REGION/$CLUSTER_NAME/oauths/operate-first-sso-secret.enc.yaml`\n",
    "- [x] `cluster-scope/overlays/prod/$CLUSTER_REGION/$CLUSTER_NAME/secret-generator.yaml`\n",
    "- [x] `cluster-scope/overlays/prod/$CLUSTER_REGION/$CLUSTER_NAME/oauths/cluster_patch.yaml`\n",
    "- [x] `acm/overlays/moc/infra/klusterletaddonconfigs/$CLUSTER_NAME.yaml`\n",
    "- [x] `acm/overlays/moc/infra/kustomization.yaml`\n",
    "- [x] `keycloak/overlays/moc/infra/clients/$CLUSTER_NAME.enc.yaml`\n",
    "- [x] `keycloak/overlays/moc/infra/secret-generator.yaml`\n",
    ":::"
   ],
   "metadata": {}
  },
  {
   "cell_type": "code",
   "execution_count": 41,
   "source": [
    "!git status\n",
    "!git add .\n",
    "!git commit -m \"feat(onboarding): Add cluster $CLUSTER_NAME\""
   ],
   "outputs": [
    {
     "output_type": "stream",
     "name": "stdout",
     "text": [
      "On branch master\n",
      "Your branch is up to date with 'origin/master'.\n",
      "\n",
      "Changes not staged for commit:\n",
      "  (use \"git add <file>...\" to update what will be committed)\n",
      "  (use \"git restore <file>...\" to discard changes in working directory)\n",
      "\t\u001b[31mmodified:   acm/overlays/moc/infra/kustomization.yaml\u001b[m\n",
      "\t\u001b[31mmodified:   keycloak/overlays/moc/infra/secret-generator.yaml\u001b[m\n",
      "\n",
      "Untracked files:\n",
      "  (use \"git add <file>...\" to include in what will be committed)\n",
      "\t\u001b[31macm/overlays/moc/infra/klusterletaddonconfigs/my-cluster.yaml\u001b[m\n",
      "\t\u001b[31mcluster-scope/overlays/prod/moc/my-cluster/\u001b[m\n",
      "\t\u001b[31mkeycloak/overlays/moc/infra/clients/my-cluster.enc.yaml\u001b[m\n",
      "\n",
      "no changes added to commit (use \"git add\" and/or \"git commit -a\")\n",
      "[master 59ba074] feat(onboarding): Add cluster my-cluster\n",
      " 9 files changed, 159 insertions(+)\n",
      " create mode 100644 acm/overlays/moc/infra/klusterletaddonconfigs/my-cluster.yaml\n",
      " create mode 100644 cluster-scope/overlays/prod/moc/my-cluster/groups/cluster-admins.yaml\n",
      " create mode 100644 cluster-scope/overlays/prod/moc/my-cluster/kustomization.yaml\n",
      " create mode 100644 cluster-scope/overlays/prod/moc/my-cluster/oauths/cluster_patch.yaml\n",
      " create mode 100644 cluster-scope/overlays/prod/moc/my-cluster/oauths/operate-first-sso-secret.enc.yaml\n",
      " create mode 100644 cluster-scope/overlays/prod/moc/my-cluster/secret-generator.yaml\n",
      " create mode 100644 keycloak/overlays/moc/infra/clients/my-cluster.enc.yaml\n"
     ]
    }
   ],
   "metadata": {}
  },
  {
   "cell_type": "markdown",
   "source": [
    "\n",
    "## Changing the argocd-apps repository\n",
    "\n",
    "In previous section of this guide we enabled ArgoCD management and defined all the resources that should be applied by ArgoCD for us. Now we have tell ArgoCD about those resource. This is done via ArgoCD applications.\n",
    "In Operate First we host all ArgoCD application resources in the `argocd-apps` repository.\n",
    "Following applications will be defined in this section of the tutorial:\n",
    "1. App-of-apps for deploying other ArgoCD applications to this cluster\n",
    "2. Application which deploys the cluster management related manifests\n",
    "\n",
    "\n",
    "### Workspace setup\n",
    "\n",
    "Please fork/clone the [operate-first/argocd-apps](https://github.com/operate-first/argocd-apps) repository. During this whole setup, we’ll be working within this repository.\n",
    "\n",
    "1. Go to [operate-first/argocd-apps](https://github.com/operate-first/argocd-apps).\n",
    "2. Click on a fork button.\n",
    "3. When a fork is created click on the code button and copy an adress of your forked repository.\n",
    "4. Run following command using copied adress:"
   ],
   "metadata": {}
  },
  {
   "cell_type": "code",
   "execution_count": 29,
   "source": [
    "%cd ..\n",
    "!git clone https://github.com/$JUPYTERHUB_USER/argocd-apps.git\n",
    "%cd argocd-apps"
   ],
   "outputs": [
    {
     "output_type": "stream",
     "name": "stdout",
     "text": [
      "/home/mdrla/work/operate-first/hitchhikers-guide/pages\n",
      "Cloning into 'argocd-apps'...\n",
      "remote: Enumerating objects: 1870, done.\u001b[K\n",
      "remote: Counting objects: 100% (992/992), done.\u001b[K\n",
      "remote: Compressing objects: 100% (524/524), done.\u001b[K\n",
      "remote: Total 1870 (delta 603), reused 784 (delta 464), pack-reused 878\u001b[K\n",
      "Receiving objects: 100% (1870/1870), 293.74 KiB | 1.35 MiB/s, done.\n",
      "Resolving deltas: 100% (1203/1203), done.\n",
      "/home/mdrla/work/operate-first/hitchhikers-guide/pages/argocd-apps\n"
     ]
    }
   ],
   "metadata": {}
  },
  {
   "cell_type": "markdown",
   "source": [
    "\n",
    "### Create the App-of-apps\n",
    "\n",
    "First we will create the app-of-apps for this cluster. This application pattern allows us to simply define deploy other future ArgoCD applications that we expect to deploy to this cluster and have those application resources also managed through git-ops.\n",
    "\n",
    "Create `app-of-apps/app-of-apps-$CLUSTER_NAME.yaml`"
   ],
   "metadata": {}
  },
  {
   "cell_type": "code",
   "execution_count": 30,
   "source": [
    "text_input=\"\"\"\\\n",
    "apiVersion: argoproj.io/v1alpha1\n",
    "kind: Application\n",
    "metadata:\n",
    "  name: opf-app-of-apps-%s\n",
    "spec:\n",
    "  destination:\n",
    "    namespace: argocd\n",
    "    name: moc-infra\n",
    "  project: operate-first\n",
    "  source:\n",
    "    path: envs/%s/%s.yaml\n",
    "    repoURL: https://github.com/operate-first/argocd-apps.git\n",
    "    targetRevision: HEAD\n",
    "  syncPolicy:\n",
    "    automated:\n",
    "      prune: true\n",
    "      selfHeal: true\n",
    "    syncOptions:\n",
    "    - Validate=false\n",
    "    - ApplyOutOfSyncOnly=true\n",
    "\"\"\" % (CLUSTER_NAME, CLUSTER_REGION, CLUSTER_NAME)\n",
    "%store text_input >app-of-apps/app-of-apps-{CLUSTER_NAME}.yaml"
   ],
   "outputs": [
    {
     "output_type": "stream",
     "name": "stdout",
     "text": [
      "Writing 'text_input' (str) to file 'app-of-apps/app-of-apps-my-cluster.yaml'.\n"
     ]
    }
   ],
   "metadata": {}
  },
  {
   "cell_type": "markdown",
   "source": [
    "List the file in `app-of-apps/kustomization.yaml`"
   ],
   "metadata": {}
  },
  {
   "cell_type": "code",
   "execution_count": 31,
   "source": [
    "!cd app-of-apps && kustomize edit  add resource app-of-apps-{CLUSTER_NAME}.yaml"
   ],
   "outputs": [],
   "metadata": {}
  },
  {
   "cell_type": "markdown",
   "source": [
    "\n",
    "### Cluster management application\n",
    "\n",
    "As the next step we have to create an environment folder for ArgoCD application resource, where we define resources for this specific cluster. In this folder we can create a new application for cluster management. \n",
    "As you can see in the application manifest below in the `.spec.source`, the application points to the resources we created in the first section of this tutorial. The path is pointing ArgoCD to the `cluster-scope/overlays/prod/$CLUSTER_REGION/$CLUSTER_NAME` which is precisely where our cluster admin groups and OAuth changes are located.\n"
   ],
   "metadata": {}
  },
  {
   "cell_type": "code",
   "execution_count": 33,
   "source": [
    "!mkdir  -p envs/{CLUSTER_REGION}/{CLUSTER_NAME}/cluster-management\n",
    "text_input=\"\"\"\\\n",
    "apiVersion: argoproj.io/v1alpha1\n",
    "kind: Application\n",
    "metadata:\n",
    "  name: cluster-resources\n",
    "spec:\n",
    "  destination:\n",
    "    name: %s\n",
    "    namespace: open-cluster-management-agent\n",
    "  ignoreDifferences:\n",
    "    - group: imageregistry.operator.openshift.io\n",
    "      jsonPointers:\n",
    "        - /spec/defaultRoute\n",
    "        - /spec/httpSecret\n",
    "        - /spec/proxy\n",
    "        - /spec/requests\n",
    "        - /spec/rolloutStrategy\n",
    "      kind: Config\n",
    "      name: cluster\n",
    "  project: cluster-management\n",
    "  source:\n",
    "    path: cluster-scope/overlays/prod/%s/%s\n",
    "    repoURL: https://github.com/operate-first/apps.git\n",
    "    targetRevision: HEAD\n",
    "  syncPolicy:\n",
    "    automated:\n",
    "      prune: true\n",
    "      selfHeal: true\n",
    "    syncOptions:\n",
    "    - Validate=false\n",
    "    - ApplyOutOfSyncOnly=true\n",
    "\n",
    "\"\"\" % (CLUSTER_NAME, CLUSTER_REGION, CLUSTER_NAME)\n",
    "%store text_input >envs/{CLUSTER_REGION}/{CLUSTER_NAME}/cluster-management/cluster-resources.yaml"
   ],
   "outputs": [
    {
     "output_type": "stream",
     "name": "stdout",
     "text": [
      "Writing 'text_input' (str) to file 'envs/moc/my-cluster/cluster-management/cluster-resources.yaml'.\n"
     ]
    }
   ],
   "metadata": {}
  },
  {
   "cell_type": "markdown",
   "source": [
    "Create `cluster-resources.yaml` in ` envs/$CLUSTER_REGION/$CLUSTER_NAME/cluster-management/`."
   ],
   "metadata": {}
  },
  {
   "cell_type": "markdown",
   "source": [
    "Since we use Kustomize for ArgoCD applications as well, we need to create a `kustomization.yaml` which lists `cluster-resources.yaml` here."
   ],
   "metadata": {}
  },
  {
   "cell_type": "code",
   "execution_count": 34,
   "source": [
    "text_input=\"\"\"\\\n",
    "apiVersion: kustomize.config.k8s.io/v1beta1\n",
    "kind: Kustomization\n",
    "resources:\n",
    "  - cluster-resources.yaml  \n",
    "\"\"\"\n",
    "%store text_input >envs/{CLUSTER_REGION}/{CLUSTER_NAME}/cluster-management/kustomization.yaml"
   ],
   "outputs": [
    {
     "output_type": "stream",
     "name": "stdout",
     "text": [
      "Writing 'text_input' (str) to file 'envs/moc/my-cluster/cluster-management/kustomization.yaml'.\n"
     ]
    }
   ],
   "metadata": {}
  },
  {
   "cell_type": "markdown",
   "source": [
    "And additional `kustomization.yaml` which will list cluster-management resources. As you can see now we're creating this file at the `envs/$CLUSTER_REGION/$CLUSTER_NAME` path in the `argocd-apps` repository, which is exactly where the app of apps defined above points to."
   ],
   "metadata": {}
  },
  {
   "cell_type": "code",
   "execution_count": 35,
   "source": [
    "text_input=\"\"\"\\\n",
    "apiVersion: kustomize.config.k8s.io/v1beta1\n",
    "kind: Kustomization\n",
    "namespace: argocd\n",
    "nameSuffix: -%s\n",
    "resources:\n",
    "- cluster-management\n",
    "\"\"\" % (CLUSTER_NAME)\n",
    "%store text_input >envs/{CLUSTER_REGION}/{CLUSTER_NAME}/kustomization.yaml"
   ],
   "outputs": [
    {
     "output_type": "stream",
     "name": "stdout",
     "text": [
      "Writing 'text_input' (str) to file 'envs/moc/my-cluster/kustomization.yaml'.\n"
     ]
    }
   ],
   "metadata": {}
  },
  {
   "cell_type": "markdown",
   "source": [
    "\n",
    "### Finalize\n",
    "\n",
    "Please stage your changes and send them as a PR against the [operate-first/argocd-apps](https://github.com/operate-first/argocd-apps) repository. \n",
    ":::{note}\n",
    "Make sure that following files/ have been modified/added:\n",
    "- [x] `app-of-apps/app-of-apps-my-$CLUSTER_NAME.yaml`\n",
    "- [x] `app-of-apps/kustomization.yaml`\n",
    "- [x] `envs/$CLUSTER_REGION/$CLUSTER_NAME/cluster-management/cluster-resources.yaml`\n",
    "- [x] `envs/$CLUSTER_REGION/$CLUSTER_NAME/cluster-management/kustomization.yaml`\n",
    "- [x] `envs/$CLUSTER_REGION/$CLUSTER_NAME/kustomization.yaml`\n",
    ":::"
   ],
   "metadata": {}
  },
  {
   "cell_type": "code",
   "execution_count": 51,
   "source": [
    "!git status\n",
    "!git add .\n",
    "!git commit -m \"feat(onboarding): Add cluster $CLUSTER_NAME\"\n",
    "!git push"
   ],
   "outputs": [
    {
     "output_type": "stream",
     "name": "stdout",
     "text": [
      "On branch main\n",
      "Your branch is up to date with 'origin/main'.\n",
      "\n",
      "Changes not staged for commit:\n",
      "  (use \"git add <file>...\" to update what will be committed)\n",
      "  (use \"git restore <file>...\" to discard changes in working directory)\n",
      "\t\u001b[31mmodified:   app-of-apps/kustomization.yaml\u001b[m\n",
      "\n",
      "Untracked files:\n",
      "  (use \"git add <file>...\" to include in what will be committed)\n",
      "\t\u001b[31mapp-of-apps/app-of-apps-my-cluster.yaml\u001b[m\n",
      "\t\u001b[31menvs/moc/my-cluster/\u001b[m\n",
      "\n",
      "no changes added to commit (use \"git add\" and/or \"git commit -a\")\n",
      "[main e9d798f] feat(onboarding): Add cluster my-cluster\n",
      " 5 files changed, 61 insertions(+)\n",
      " create mode 100644 app-of-apps/app-of-apps-my-cluster.yaml\n",
      " create mode 100644 envs/moc/my-cluster/cluster-management/cluster-resources.yaml\n",
      " create mode 100644 envs/moc/my-cluster/cluster-management/kustomization.yaml\n",
      " create mode 100644 envs/moc/my-cluster/kustomization.yaml\n"
     ]
    }
   ],
   "metadata": {}
  }
 ],
 "metadata": {
  "orig_nbformat": 4,
  "language_info": {
   "name": "python",
   "version": "3.9.7",
   "mimetype": "text/x-python",
   "codemirror_mode": {
    "name": "ipython",
    "version": 3
   },
   "pygments_lexer": "ipython3",
   "nbconvert_exporter": "python",
   "file_extension": ".py"
  },
  "kernelspec": {
   "name": "python3",
   "display_name": "Python 3.9.7 64-bit"
  },
  "interpreter": {
   "hash": "e7370f93d1d0cde622a1f8e1c04877d8463912d04d973331ad4851f04de6915a"
  }
 },
 "nbformat": 4,
 "nbformat_minor": 2
}
