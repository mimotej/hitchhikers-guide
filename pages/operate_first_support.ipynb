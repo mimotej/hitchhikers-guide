{
 "cells": [
  {
   "cell_type": "markdown",
   "source": [
    "# Operate First Support\n",
    "Website: https://www.operate-first.cloud/\n",
    "\n",
    "GitHub Support Repository: https://github.com/operate-first/support\n",
    "\n",
    "For any questions, concerns, and/or requests, please use the appropriate Issue Template to open an issue on our GitHub. If no template fits your requirement, then please make a regular GitHub issue here.\n",
    "\n",
    "## End User Support\n",
    "We have a community slack channel where we post announcements, general information, and more. If you have any questions, feel free to post a message to the #support channel.\n"
   ],
   "metadata": {}
  }
 ],
 "metadata": {
  "orig_nbformat": 4,
  "language_info": {
   "name": "python"
  }
 },
 "nbformat": 4,
 "nbformat_minor": 2
}
